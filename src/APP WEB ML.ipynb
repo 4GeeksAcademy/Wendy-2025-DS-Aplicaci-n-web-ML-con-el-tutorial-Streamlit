{
    "cells": [
        {
            "cell_type": "markdown",
            "metadata": {},
            "source": [
                "# APP WEB WITH STREAMLIT - Working in group"
            ]
        },
        {
            "cell_type": "code",
            "execution_count": 1,
            "metadata": {},
            "outputs": [],
            "source": [
                "import pandas as pd\n",
                "import numpy as np\n",
                "from sklearn.model_selection import train_test_split\n",
                "from sklearn.preprocessing import StandardScaler, OneHotEncoder\n",
                "from sklearn.compose import ColumnTransformer\n",
                "from sklearn.pipeline import Pipeline\n",
                "from sklearn.linear_model import LogisticRegression\n",
                "from sklearn.metrics import accuracy_score, classification_report, confusion_matrix\n",
                "import joblib\n",
                "import matplotlib.pyplot as plt\n",
                "import seaborn as sns\n",
                "import os"
            ]
        },
        {
            "cell_type": "markdown",
            "metadata": {},
            "source": [
                "### 0. Data ingestion"
            ]
        },
        {
            "cell_type": "code",
            "execution_count": 2,
            "metadata": {},
            "outputs": [
                {
                    "name": "stdout",
                    "output_type": "stream",
                    "text": [
                        "Titanic dataset loaded successfully.\n",
                        "DataFrame head:\n",
                        "   PassengerId  Survived  Pclass  \\\n",
                        "0            1         0       3   \n",
                        "1            2         1       1   \n",
                        "2            3         1       3   \n",
                        "3            4         1       1   \n",
                        "4            5         0       3   \n",
                        "\n",
                        "                                                Name     Sex   Age  SibSp  \\\n",
                        "0                            Braund, Mr. Owen Harris    male  22.0      1   \n",
                        "1  Cumings, Mrs. John Bradley (Florence Briggs Th...  female  38.0      1   \n",
                        "2                             Heikkinen, Miss. Laina  female  26.0      0   \n",
                        "3       Futrelle, Mrs. Jacques Heath (Lily May Peel)  female  35.0      1   \n",
                        "4                           Allen, Mr. William Henry    male  35.0      0   \n",
                        "\n",
                        "   Parch            Ticket     Fare Cabin Embarked  \n",
                        "0      0         A/5 21171   7.2500   NaN        S  \n",
                        "1      0          PC 17599  71.2833   C85        C  \n",
                        "2      0  STON/O2. 3101282   7.9250   NaN        S  \n",
                        "3      0            113803  53.1000  C123        S  \n",
                        "4      0            373450   8.0500   NaN        S  \n",
                        "\n",
                        "DataFrame info:\n",
                        "<class 'pandas.core.frame.DataFrame'>\n",
                        "RangeIndex: 891 entries, 0 to 890\n",
                        "Data columns (total 12 columns):\n",
                        " #   Column       Non-Null Count  Dtype  \n",
                        "---  ------       --------------  -----  \n",
                        " 0   PassengerId  891 non-null    int64  \n",
                        " 1   Survived     891 non-null    int64  \n",
                        " 2   Pclass       891 non-null    int64  \n",
                        " 3   Name         891 non-null    object \n",
                        " 4   Sex          891 non-null    object \n",
                        " 5   Age          714 non-null    float64\n",
                        " 6   SibSp        891 non-null    int64  \n",
                        " 7   Parch        891 non-null    int64  \n",
                        " 8   Ticket       891 non-null    object \n",
                        " 9   Fare         891 non-null    float64\n",
                        " 10  Cabin        204 non-null    object \n",
                        " 11  Embarked     889 non-null    object \n",
                        "dtypes: float64(2), int64(5), object(5)\n",
                        "memory usage: 83.7+ KB\n",
                        "\n",
                        "Survival (target) value counts:\n",
                        "Survived\n",
                        "0    549\n",
                        "1    342\n",
                        "Name: count, dtype: int64\n"
                    ]
                }
            ],
            "source": [
                "titanic_url = \"https://raw.githubusercontent.com/datasciencedojo/datasets/master/titanic.csv\"\n",
                "try:\n",
                "    df = pd.read_csv(titanic_url)\n",
                "    print(\"Titanic dataset loaded successfully.\")\n",
                "    print(\"DataFrame head:\")\n",
                "    print(df.head())\n",
                "    print(\"\\nDataFrame info:\")\n",
                "    df.info()\n",
                "    print(\"\\nSurvival (target) value counts:\")\n",
                "    print(df[\"Survived\"].value_counts())\n",
                "except Exception as e:\n",
                "    print(f\"Error loading Titanic dataset: {e}\")\n",
                "    print(\"Please ensure the URL is correct or check your internet connection.\")"
            ]
        },
        {
            "cell_type": "markdown",
            "metadata": {},
            "source": [
                "### 1. Basic EDA and Preprocesing"
            ]
        },
        {
            "cell_type": "code",
            "execution_count": 3,
            "metadata": {},
            "outputs": [
                {
                    "name": "stdout",
                    "output_type": "stream",
                    "text": [
                        "Dropped 'PassengerId', 'Name', 'Ticket', 'Cabin' columns.\n",
                        "Handled missing values in 'Age' (median) and 'Embarked' (mode).\n",
                        "\n",
                        "Missing values after handling:\n",
                        "Survived    0\n",
                        "Pclass      0\n",
                        "Sex         0\n",
                        "Age         0\n",
                        "SibSp       0\n",
                        "Parch       0\n",
                        "Fare        0\n",
                        "Embarked    0\n",
                        "dtype: int64\n",
                        "\n",
                        "Shape of X: (891, 7)\n",
                        "\n",
                        "Shape of y: (891,)\n",
                        "\n",
                        "Preprocessing pipeline defined.\n"
                    ]
                },
                {
                    "name": "stderr",
                    "output_type": "stream",
                    "text": [
                        "/tmp/ipykernel_4717/427026358.py:3: FutureWarning: A value is trying to be set on a copy of a DataFrame or Series through chained assignment using an inplace method.\n",
                        "The behavior will change in pandas 3.0. This inplace method will never work because the intermediate object on which we are setting values always behaves as a copy.\n",
                        "\n",
                        "For example, when doing 'df[col].method(value, inplace=True)', try using 'df.method({col: value}, inplace=True)' or df[col] = df[col].method(value) instead, to perform the operation inplace on the original object.\n",
                        "\n",
                        "\n",
                        "  df['Age'].fillna(df['Age'].median(), inplace = True)\n",
                        "/tmp/ipykernel_4717/427026358.py:4: FutureWarning: A value is trying to be set on a copy of a DataFrame or Series through chained assignment using an inplace method.\n",
                        "The behavior will change in pandas 3.0. This inplace method will never work because the intermediate object on which we are setting values always behaves as a copy.\n",
                        "\n",
                        "For example, when doing 'df[col].method(value, inplace=True)', try using 'df.method({col: value}, inplace=True)' or df[col] = df[col].method(value) instead, to perform the operation inplace on the original object.\n",
                        "\n",
                        "\n",
                        "  df['Embarked'].fillna(df['Embarked'].mode()[0], inplace = True)\n"
                    ]
                }
            ],
            "source": [
                "df = df.drop(['PassengerId', 'Name', 'Ticket', 'Cabin'], axis = 1)\n",
                "print(\"Dropped 'PassengerId', 'Name', 'Ticket', 'Cabin' columns.\")\n",
                "df['Age'].fillna(df['Age'].median(), inplace = True)\n",
                "df['Embarked'].fillna(df['Embarked'].mode()[0], inplace = True)\n",
                "print(\"Handled missing values in 'Age' (median) and 'Embarked' (mode).\")\n",
                "print('\\nMissing values after handling:')\n",
                "print(df.isnull().sum())\n",
                "X = df.drop('Survived', axis = 1)\n",
                "y = df['Survived']\n",
                "print(f'\\nShape of X: {X.shape}')\n",
                "print(f'\\nShape of y: {y.shape}')\n",
                "numerical_features = ['Age', 'Fare', 'SibSp', 'Parch']\n",
                "categorical_features = ['Pclass', 'Sex', 'Embarked']\n",
                "numerical_transformer = Pipeline(steps = [\n",
                "    ('onehot', OneHotEncoder(handle_unknown = 'ignore'))\n",
                "])\n",
                "categorical_transformer = Pipeline(steps = [\n",
                "    ('onehot', OneHotEncoder(handle_unknown = 'ignore'))\n",
                "])\n",
                "preprocessor = ColumnTransformer(\n",
                "    transformers =[\n",
                "        ('num', numerical_transformer, numerical_features),\n",
                "        ('cat', categorical_transformer, categorical_features)\n",
                "    ])\n",
                "print(\"\\nPreprocessing pipeline defined.\")"
            ]
        }
    ],
    "metadata": {
        "kernelspec": {
            "display_name": "Python 3",
            "language": "python",
            "name": "python3"
        },
        "language_info": {
            "codemirror_mode": {
                "name": "ipython",
                "version": 3
            },
            "file_extension": ".py",
            "mimetype": "text/x-python",
            "name": "python",
            "nbconvert_exporter": "python",
            "pygments_lexer": "ipython3",
            "version": "3.11.4"
        },
        "orig_nbformat": 4
    },
    "nbformat": 4,
    "nbformat_minor": 2
}
